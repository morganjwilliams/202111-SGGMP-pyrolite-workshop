{
 "cells": [
  {
   "cell_type": "markdown",
   "id": "5c6f136d-47b0-4882-93a7-a69338656acc",
   "metadata": {},
   "source": [
    "# Extended Examples\n",
    "\n",
    "For the most part, where something else exists and does something well, `pyrolite` doesn't try and duplicate it. In this section of the workshop we'll look at a few natural complements to `pyrolite` to make the most of your geochemical data, now that you have it under control."
   ]
  },
  {
   "cell_type": "markdown",
   "id": "76ff9abd-38c9-468a-a818-74c3b836eae5",
   "metadata": {},
   "source": [
    "## Geochemistry ML \n",
    "\n",
    "* Some simple mineral ML\n",
    "* Tectonic setting classification"
   ]
  },
  {
   "cell_type": "markdown",
   "id": "82280bf9-23c6-4adb-a0ca-3ded157d2d65",
   "metadata": {},
   "source": [
    "## Working with Geochemistry in Spatial Context\n",
    "\n",
    "* Intro do geopandas, basemaps\n",
    "* Kriging"
   ]
  },
  {
   "cell_type": "markdown",
   "id": "3e29d120-036a-46e4-b98f-4006eb1ebe3d",
   "metadata": {},
   "source": [
    "## Working with Geochemistry in Time\n",
    "\n",
    "* Bootstrap resampling"
   ]
  }
 ],
 "metadata": {
  "kernelspec": {
   "display_name": "Python 3 (ipykernel)",
   "language": "python",
   "name": "python3"
  },
  "language_info": {
   "codemirror_mode": {
    "name": "ipython",
    "version": 3
   },
   "file_extension": ".py",
   "mimetype": "text/x-python",
   "name": "python",
   "nbconvert_exporter": "python",
   "pygments_lexer": "ipython3",
   "version": "3.10.6"
  }
 },
 "nbformat": 4,
 "nbformat_minor": 5
}
