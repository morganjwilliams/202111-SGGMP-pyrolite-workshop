{
 "cells": [
  {
   "cell_type": "markdown",
   "id": "116f93bb-833e-4dfe-8b06-b3cd25aebf69",
   "metadata": {},
   "source": [
    "| [**Overview**](./00_overview.ipynb) | [Getting Started](./01_jupyter_python.ipynb) | **Examples:** | [Access](./02_accessing_indexing.ipynb) | [Transform](./03_transform.ipynb) | [Plotting](./04_simple_vis.ipynb) | [Norm-Spiders](./05_norm_spiders.ipynb) | [Minerals](./06_minerals.ipynb) | [lambdas](./07_lambdas.ipynb) | [CIPW](./08_CIPW_Norm.ipynb) | [Lattice Strain](./09_lattice_strain.ipynb) | **Extensions:** | [ML](./11_geochem_ML.ipynb) | [Spatial Data](./12_spatial_geochem.ipynb) |\n",
    "| -- | -- | -- | -- | -- | -- | -- | -- | -- | -- | -- | -- | -- | -- |"
   ]
  },
  {
   "cell_type": "markdown",
   "id": "26675625-cbe9-4012-abb3-1ffe27fba0e5",
   "metadata": {},
   "source": [
    "## Getting Started with Geopandas\n",
    "\n",
    "\n",
    "In this notebook we'll look at working with geochemistry in a spatial context, mainly looking at [`geopandas`](https://geopandas.org/en/stable/). We'll also look at how to bring some *simple* interactivity to your `matplotlib` figures, which could also be applied to any non-spatial case."
   ]
  },
  {
   "cell_type": "code",
   "execution_count": null,
   "id": "33079c0a-d908-4266-aa51-1f403fe2c78c",
   "metadata": {},
   "outputs": [],
   "source": [
    "import pandas as pd\n",
    "import numpy as np\n",
    "import geopandas as gpd\n",
    "import contextily as cx\n",
    "import matplotlib.pyplot as plt\n",
    "\n",
    "import pyrolite"
   ]
  },
  {
   "cell_type": "code",
   "execution_count": null,
   "id": "d766432c-3bda-4e47-961d-6f0cec350311",
   "metadata": {},
   "outputs": [],
   "source": [
    "df = gpd.read_file(\"../data/regolith/CapricornSoilGeochem.shp\") # stores it's own coordinate system, should be in crs=\"epsg:28350\"\n",
    "df = df.loc[df.Easting > 0]  # drop things which don't have locations"
   ]
  },
  {
   "cell_type": "code",
   "execution_count": null,
   "id": "63f865d0-f861-40e7-aae4-5b421f4530a0",
   "metadata": {},
   "outputs": [],
   "source": [
    "df.crs"
   ]
  },
  {
   "cell_type": "code",
   "execution_count": null,
   "id": "0947b414-2499-4132-9fb2-f3829099fe1a",
   "metadata": {},
   "outputs": [],
   "source": [
    "df.columns"
   ]
  },
  {
   "cell_type": "code",
   "execution_count": null,
   "id": "4c0ff11e-8904-4e19-bdd5-164fe796c7de",
   "metadata": {},
   "outputs": [],
   "source": [
    "df.columns = [c.replace(\"_ppm\", \"\") for c in df.columns]\n",
    "df.columns"
   ]
  },
  {
   "cell_type": "code",
   "execution_count": null,
   "id": "2931b59e-61fe-4b15-b498-6993c325a526",
   "metadata": {},
   "outputs": [],
   "source": [
    "df.geometry"
   ]
  },
  {
   "cell_type": "code",
   "execution_count": null,
   "id": "f2fc19ab-fc85-4ab4-98f6-3aef342cf6e9",
   "metadata": {},
   "outputs": [],
   "source": [
    "df.geometry[0].x  # the x coordinate from the first point"
   ]
  },
  {
   "cell_type": "code",
   "execution_count": null,
   "id": "88435cad-0ca2-4fd1-9f2b-04ad46307fe0",
   "metadata": {},
   "outputs": [],
   "source": [
    "df.plot()"
   ]
  },
  {
   "cell_type": "code",
   "execution_count": null,
   "id": "d7af00b5-6d0a-4d9f-b5c6-80c88b923e93",
   "metadata": {},
   "outputs": [],
   "source": [
    "colour_by = \"Al\""
   ]
  },
  {
   "cell_type": "code",
   "execution_count": null,
   "id": "1bda96cd-c96a-4538-b691-330a64f6d9e4",
   "metadata": {},
   "outputs": [],
   "source": [
    "df.plot(\n",
    "    c=df[colour_by]\n",
    ")  # plot the data from our dataset, coloured by the column selected"
   ]
  },
  {
   "cell_type": "code",
   "execution_count": null,
   "id": "82d8b450-17a4-4728-bf3d-678f4366290d",
   "metadata": {},
   "outputs": [],
   "source": [
    "ax = df.plot(c=df[colour_by])\n",
    "plt.colorbar(ax.collections[0], label=colour_by)  # add a colourbar for the variable"
   ]
  },
  {
   "cell_type": "code",
   "execution_count": null,
   "id": "bcade6a7-7093-4be0-b8b8-a244f54c7966",
   "metadata": {},
   "outputs": [],
   "source": [
    "from sklearn.decomposition import PCA\n",
    "n_components = 5\n",
    "pca_scores = gpd.GeoDataFrame(PCA(n_components=n_components).fit_transform(df.pyrochem.elements), columns=['PCA{}'.format(ix) for ix in range(n_components)], geometry=df.geometry)\n",
    "pca_scores"
   ]
  },
  {
   "cell_type": "code",
   "execution_count": null,
   "id": "e7aa09d6-9499-442b-8a3f-a68e31eff7b2",
   "metadata": {},
   "outputs": [],
   "source": [
    "%matplotlib inline \n",
    "fig, ax = plt.subplots(1, n_components, sharex=True, sharey=True, figsize=(15, 3))\n",
    "ax = list(ax.flat)\n",
    "for a, c in zip(ax, pca_scores.columns.tolist()):\n",
    "    a.set_title(c)\n",
    "    pca_scores.loc[:, [c, 'geometry']].plot(c=pca_scores[c].values, ax=a, cmap=plt.get_cmap('cividis').copy())\n",
    "    #plt.colorbar(a.collections[0], shrink=0.5)"
   ]
  },
  {
   "cell_type": "markdown",
   "id": "05396e44-4288-4713-b7e1-7c5c5af1d8d8",
   "metadata": {},
   "source": [
    "## Basemaps with Contextily"
   ]
  },
  {
   "cell_type": "code",
   "execution_count": null,
   "id": "f35829d4-caef-4a04-95be-52837c29cbe2",
   "metadata": {},
   "outputs": [],
   "source": [
    "ax = df.plot(c=df[colour_by])\n",
    "plt.colorbar(ax.collections[0], label=colour_by)\n",
    "cx.add_basemap(ax, crs=df.crs.to_string())  # add a basemap under our dataset"
   ]
  },
  {
   "cell_type": "code",
   "execution_count": null,
   "id": "5892229b-571c-4440-81c0-a535656880a8",
   "metadata": {},
   "outputs": [],
   "source": [
    "ax = df.plot(c=df[colour_by])\n",
    "plt.colorbar(ax.collections[0], label=colour_by)\n",
    "cx.add_basemap(\n",
    "    ax, crs=df.crs.to_string(), source=cx.providers.Esri.WorldImagery, zoom=10\n",
    ")  # add a basemap under our dataset, with the ESRI satellite imagery"
   ]
  },
  {
   "cell_type": "code",
   "execution_count": null,
   "id": "f044e357-5867-48b6-ba8c-2c60b4d3cf58",
   "metadata": {},
   "outputs": [],
   "source": [
    "%matplotlib widget\n",
    "# use an interactive backend for matplotlib\n",
    "fig, ax = plt.subplots(1, figsize=(10, 6))  # create a figure with a specific size\n",
    "\n",
    "df.plot(c=df[colour_by], marker=\"D\", ax=ax)  # plot the Al_ppm data from our dataset\n",
    "\n",
    "fig.colorbar(\n",
    "    ax.collections[0], label=colour_by, shrink=0.8\n",
    ")  # add a colourbar for the variable\n",
    "\n",
    "ax.set(\n",
    "    xlabel=\"Easting\",\n",
    "    ylabel=\"Northing\",\n",
    "    aspect=\"equal\",\n",
    "    xlim=(125000, 800000),\n",
    "    ylim=(7.1e6, 7.65e6),\n",
    ")\n",
    "# modify some of the axis defaults, expand so we have broader context\n",
    "\n",
    "cx.add_basemap(\n",
    "    ax,\n",
    "    crs=df.crs.to_string(),\n",
    "    source=cx.providers.Esri.WorldImagery,\n",
    "    zoom=10,\n",
    "    attribution=False,\n",
    ")  # add a basemap under our dataset"
   ]
  },
  {
   "cell_type": "markdown",
   "id": "3e282aa8-aa38-4bdf-b735-4804c9c30cd4",
   "metadata": {},
   "source": [
    "Add some more basic interactivity:"
   ]
  },
  {
   "cell_type": "code",
   "execution_count": null,
   "id": "78f925e5-d3aa-4097-9499-75fc94f37d0f",
   "metadata": {},
   "outputs": [],
   "source": [
    "%matplotlib widget\n",
    "import ipywidgets as widgets\n",
    "from ipywidgets import interact\n",
    "import matplotlib.colors\n",
    "\n",
    "column = widgets.Dropdown(\n",
    "    options=df.pyrochem.list_elements,\n",
    "    value=colour_by,\n",
    "    description=\"Column:\",\n",
    "    disabled=False,\n",
    ")\n",
    "cmap = widgets.Dropdown(\n",
    "    options=plt.colormaps(),\n",
    "    value=\"cividis\",\n",
    "    description=\"Colourmap:\",\n",
    "    disabled=False,\n",
    ")\n",
    "\n",
    "# remove zeros and below\n",
    "df.pyrochem.elements = np.where(df.pyrochem.elements > 0, df.pyrochem.elements, np.nan) \n",
    "\n",
    "fig, ax = plt.subplots(1, figsize=(10, 6))\n",
    "\n",
    "df.plot(c=df[colour_by], marker=\"D\", ax=ax, norm=matplotlib.colors.LogNorm())\n",
    "cb = fig.colorbar(ax.collections[0], label=colour_by, shrink=0.8)\n",
    "ax.set(\n",
    "    xlabel=\"Easting\",\n",
    "    ylabel=\"Northing\",\n",
    "    aspect=\"equal\",\n",
    "    xlim=(125000, 800000),\n",
    "    ylim=(7.1e6, 7.65e6),\n",
    ")\n",
    "cx.add_basemap(\n",
    "    ax,\n",
    "    crs=df.crs.to_string(),\n",
    "    source=cx.providers.Esri.WorldImagery,\n",
    "    zoom=10,\n",
    "    attribution=False,\n",
    ")\n",
    "\n",
    "\n",
    "def plot_column(column=\"Al\", cmap=\"cividis\"):\n",
    "    ax.collections[0].cmap = plt.get_cmap(cmap).copy()\n",
    "    ax.collections[0].set_array(df[column])\n",
    "    ax.collections[0].set_clim(vmin=np.nanmin(df[column]), vmax=np.nanmax(df[column]))\n",
    "    cb.update_normal(ax.collections[0])\n",
    "    cb.set_label(column)\n",
    "    fig.canvas.draw()\n",
    "\n",
    "\n",
    "widget = widgets.interactive(plot_column, column=column, cmap=cmap)\n",
    "display(\n",
    "    widgets.VBox(\n",
    "        [\n",
    "            widgets.HBox(\n",
    "                widget.children[:-1], layout=widgets.Layout(flex_flow=\"row wrap\")\n",
    "            ),\n",
    "            widget.children[-1],\n",
    "        ]\n",
    "    )\n",
    ")"
   ]
  },
  {
   "cell_type": "markdown",
   "id": "794c6706-6776-45f5-8d34-3a3732ce84b5",
   "metadata": {},
   "source": [
    "--- \n",
    "\n",
    "| [**Overview**](./00_overview.ipynb) | [Getting Started](./01_jupyter_python.ipynb) | **Examples:** | [Access](./02_accessing_indexing.ipynb) | [Transform](./03_transform.ipynb) | [Plotting](./04_simple_vis.ipynb) | [Norm-Spiders](./05_norm_spiders.ipynb) | [Minerals](./06_minerals.ipynb) | [lambdas](./07_lambdas.ipynb) | [CIPW](./08_CIPW_Norm.ipynb) | [Lattice Strain](./09_lattice_strain.ipynb) | **Extensions:** | [ML](./11_geochem_ML.ipynb) | [Spatial Data](./12_spatial_geochem.ipynb) |\n",
    "| -- | -- | -- | -- | -- | -- | -- | -- | -- | -- | -- | -- | -- | -- |"
   ]
  }
 ],
 "metadata": {
  "kernelspec": {
   "display_name": "sggmp-workshop-env",
   "language": "python",
   "name": "sggmp-workshop-env"
  },
  "language_info": {
   "codemirror_mode": {
    "name": "ipython",
    "version": 3
   },
   "file_extension": ".py",
   "mimetype": "text/x-python",
   "name": "python",
   "nbconvert_exporter": "python",
   "pygments_lexer": "ipython3",
   "version": "3.10.6"
  }
 },
 "nbformat": 4,
 "nbformat_minor": 5
}
